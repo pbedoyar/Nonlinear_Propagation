{
 "cells": [
  {
   "cell_type": "code",
   "execution_count": 1,
   "id": "7b12f28b",
   "metadata": {},
   "outputs": [],
   "source": [
    "import scipy\n",
    "from numpy import fft\n",
    "import numpy as np\n",
    "from numpy import linspace\n",
    "import math\n",
    "from scipy import integrate"
   ]
  },
  {
   "cell_type": "code",
   "execution_count": 2,
   "id": "b2e423bc",
   "metadata": {},
   "outputs": [],
   "source": [
    "eps=np.finfo(float).eps"
   ]
  },
  {
   "cell_type": "code",
   "execution_count": 3,
   "id": "f80d0e6d",
   "metadata": {},
   "outputs": [
    {
     "data": {
      "text/plain": [
       "2.220446049250313e-16"
      ]
     },
     "execution_count": 3,
     "metadata": {},
     "output_type": "execute_result"
    }
   ],
   "source": [
    "eps"
   ]
  },
  {
   "cell_type": "code",
   "execution_count": 4,
   "id": "06b1b945",
   "metadata": {},
   "outputs": [],
   "source": [
    "# numerical grid\n",
    "n = 2**13                   # number of grid points\n",
    "twidth = 12.5e-12          # width of time window [s]\n",
    "c = 299792458              # speed of light [m/s]\n",
    "wavelength = 835e-9        # reference wavelength [m]\n",
    "w0 = (2*np.pi*c)/wavelength   # reference frequency [Hz]\n",
    "dt = twidth/n\n",
    "T = np.arange(-n/2, n/2-1)*dt # time grid\n",
    "\n",
    "# === input pulse\n",
    "power = 10000                  # peak power of input [W]\n",
    "t0 = 28.4e-15              # duration of input [s]\n",
    "A = np.sqrt(power)*1/(np.cosh(T/t0)) # input field [W^(1/2)]\n",
    "\n",
    "# === fibre parameters\n",
    "flength = 0.15             # fibre length [m]\n",
    "# betas = [beta2, beta3, ...] in units [s^2/m, s^3/m ...]\n",
    "betas = [-1.1830e-026, 8.1038e-041, -9.5205e-056,  2.0737e-070,\n",
    "         -5.3943e-085,  1.3486e-099, -2.5495e-114,  3.0524e-129, \n",
    "         -1.7140e-144]\n",
    "gamma = 0.11               # nonlinear coefficient [1/W/m]\n",
    "loss = 0                   # loss [dB/m]\n",
    "\n",
    "# === Raman response\n",
    "fr = 0.18                  # fractional Raman contribution\n",
    "tau1 = 0.0122e-12; tau2 = 0.032e-12\n",
    "RT = (tau1**2+tau2**2)/tau1/tau2**2*np.exp(-T/tau2)*np.sin(T/tau1)\n",
    "RT = np.where(T < 0, RT, 0) # heaviside step function\n",
    "\n",
    "\n",
    "# === simulation parameters\n",
    "nsaves = 50     # number of length steps to save field at\n"
   ]
  },
  {
   "cell_type": "code",
   "execution_count": 22,
   "id": "a2eea5f7",
   "metadata": {},
   "outputs": [],
   "source": [
    "# GNLSE Function\n",
    "def gnlse(T, A, w0, gamma, betas, loss, fr, RT, flength, nsaves, printProgress = True):\n",
    "\n",
    "    n = len(T)\n",
    "    dT = T[1]-T[0]  # grid parameters\n",
    "    V = (np.arange(-n/2,n/2)*2*np.pi)/(n*dT)  # frequency grid\n",
    "    alpha = np.log(10**(loss/10))  # attenuation coefficient\n",
    "    \n",
    "    B = 0\n",
    "    for i in range(len(betas)): # Taylor expansion of betas\n",
    "        B += betas[i]/(math.factorial(i + 1)*V**(i + 1))\n",
    "        \n",
    "    L = 1j*B - alpha /2  # linear operator\n",
    "\n",
    "    if abs(w0) > eps: # if w0>0 then include shock\n",
    "        gamma = gamma/w0\n",
    "        W=V+w0\n",
    "    else: #set @ to 1 for no shock\n",
    "        W = 1\n",
    "\n",
    "    RW = n*fft.ifft(fft.fftshift(RT))  # frequency domain Raman\n",
    "    L = fft.fftshift(L)\n",
    "    W = fft.fftshift(W)  # shift to fft space\n",
    "\n",
    "    def gnlse_rhs(z, AW):\n",
    "        AT = fft.fft(AW*np.exp(L*z))  # time domain field\n",
    "        AT = np.where(np.abs(AW) <= eps, AW, 0)\n",
    "        IT = np.abs(AT)**2  # time domain intensity\n",
    "        if (len(RT) == 1) or fr < eps:  # no Raman case\n",
    "            M = fft.ifft(AT*IT)  # response function\n",
    "        else:\n",
    "            RS = dT*fr*fft.fft(fft.ifft(IT)*RW)  # Raman convolution\n",
    "            M = fft.ifft(AT*((1-fr)*IT+RS))  # response function\n",
    "\n",
    "        R = 1j*gamma*W*M*np.exp(-L*z)  # full RHS of Eq. (3.13)\n",
    "\n",
    "        return R\n",
    "\n",
    "    # === setup and run the ODE integrator\n",
    "    Z = np.linspace(0, flength, nsaves)  # select output z points\n",
    "    AW = []\n",
    "    r = scipy.integrate.ode(gnlse_rhs).set_integrator(\"dopri5\")  # choice of method\n",
    "    r.set_initial_value(fft.ifft(A), 0) # initial values\n",
    "    #help(r.integrate)\n",
    "    for i in range(len(Z)):\n",
    "        r.integrate(Z[i])#, AW) # get one more value, add it to the array\n",
    "        if printProgress == True: \n",
    "            print(i + 1, \"/\", len(Z))\n",
    "        AW.append(r.y)\n",
    "        #if not r.successful():\n",
    "        #    raise RuntimeError(\"Could not integrate\")\n",
    "\n",
    "    # === process output of integrator\n",
    "    AT = []\n",
    "    for i in range(len(AW)):\n",
    "        AW[i] = AW[i] * np.exp(L*Z[i]) # change variables REMEMBER took ' out before Z\n",
    "        AT.append(fft.ifft(AW[i]))           # time domain output\n",
    "        AW[i] = fft.fftshift(AW[i])*dT*n  # scale\n",
    "\n",
    "    W = V + w0  # the absolute frequency grid\n",
    "    return {\n",
    "            \"AW\" : AW, \n",
    "            \"W\" : W, \n",
    "            \"AT\": AT, \n",
    "            \"Z\" : Z\n",
    "        }"
   ]
  },
  {
   "cell_type": "code",
   "execution_count": 23,
   "id": "68cd37b9",
   "metadata": {},
   "outputs": [],
   "source": [
    "# Multiple return values (tuple), explicitly unpack\n",
    "#AW, W, AT = gnlse\n",
    "# Multiple return values (tuple), keep tuple object, and index\n",
    "#results = gnlse\n",
    "#results[0] # AW\n",
    "#results[1] # W\n",
    "#results[2] # AT"
   ]
  },
  {
   "cell_type": "code",
   "execution_count": 24,
   "id": "cdefe380",
   "metadata": {},
   "outputs": [],
   "source": [
    "# With dictonary\n",
    "#results = gnlse\n",
    "#results[\"AW\"]"
   ]
  },
  {
   "cell_type": "code",
   "execution_count": 25,
   "id": "20b47f8a",
   "metadata": {},
   "outputs": [
    {
     "name": "stdout",
     "output_type": "stream",
     "text": [
      "1 / 50\n",
      "2 / 50\n",
      "3 / 50\n",
      "4 / 50\n",
      "5 / 50\n",
      "6 / 50\n",
      "7 / 50\n",
      "8 / 50\n",
      "9 / 50\n",
      "10 / 50\n",
      "11 / 50\n",
      "12 / 50\n",
      "13 / 50\n",
      "14 / 50\n",
      "15 / 50\n",
      "16 / 50\n",
      "17 / 50\n",
      "18 / 50\n",
      "19 / 50\n",
      "20 / 50\n",
      "21 / 50\n",
      "22 / 50\n",
      "23 / 50\n",
      "24 / 50\n",
      "25 / 50\n",
      "26 / 50\n",
      "27 / 50\n",
      "28 / 50\n",
      "29 / 50\n",
      "30 / 50\n",
      "31 / 50\n",
      "32 / 50\n",
      "33 / 50\n",
      "34 / 50\n",
      "35 / 50\n",
      "36 / 50\n",
      "37 / 50\n",
      "38 / 50\n",
      "39 / 50\n",
      "40 / 50\n",
      "41 / 50\n",
      "42 / 50\n",
      "43 / 50\n",
      "44 / 50\n",
      "45 / 50\n",
      "46 / 50\n",
      "47 / 50\n",
      "48 / 50\n",
      "49 / 50\n",
      "50 / 50\n"
     ]
    }
   ],
   "source": [
    "# propagate field\n",
    "\n",
    "results = gnlse(T, A, w0, gamma, betas, loss, fr, RT, flength, nsaves)\n"
   ]
  },
  {
   "cell_type": "code",
   "execution_count": null,
   "id": "b89d6ee3",
   "metadata": {},
   "outputs": [],
   "source": [
    "results"
   ]
  },
  {
   "cell_type": "code",
   "execution_count": null,
   "id": "606368cd",
   "metadata": {},
   "outputs": [],
   "source": []
  },
  {
   "cell_type": "code",
   "execution_count": null,
   "id": "1746d35b",
   "metadata": {},
   "outputs": [],
   "source": []
  }
 ],
 "metadata": {
  "kernelspec": {
   "display_name": "Python 3 (ipykernel)",
   "language": "python",
   "name": "python3"
  },
  "language_info": {
   "codemirror_mode": {
    "name": "ipython",
    "version": 3
   },
   "file_extension": ".py",
   "mimetype": "text/x-python",
   "name": "python",
   "nbconvert_exporter": "python",
   "pygments_lexer": "ipython3",
   "version": "3.9.7"
  }
 },
 "nbformat": 4,
 "nbformat_minor": 5
}
