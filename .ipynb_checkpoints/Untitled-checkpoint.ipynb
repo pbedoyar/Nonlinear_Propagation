{
 "cells": [
  {
   "cell_type": "code",
   "execution_count": 1,
   "id": "7b12f28b",
   "metadata": {},
   "outputs": [],
   "source": [
    "import scipy\n",
    "from scipy import fft\n",
    "import numpy as np\n",
    "from numpy import linspace\n",
    "import math\n",
    "from scipy import integrate"
   ]
  },
  {
   "cell_type": "code",
   "execution_count": 2,
   "id": "b2e423bc",
   "metadata": {},
   "outputs": [],
   "source": [
    "eps=np.finfo(float).eps"
   ]
  },
  {
   "cell_type": "code",
   "execution_count": 3,
   "id": "f80d0e6d",
   "metadata": {},
   "outputs": [
    {
     "data": {
      "text/plain": [
       "2.220446049250313e-16"
      ]
     },
     "execution_count": 3,
     "metadata": {},
     "output_type": "execute_result"
    }
   ],
   "source": [
    "eps"
   ]
  },
  {
   "cell_type": "code",
   "execution_count": 4,
   "id": "06b1b945",
   "metadata": {},
   "outputs": [],
   "source": [
    "# numerical grid\n",
    "n = 2**13                   # number of grid points\n",
    "twidth = 12.5e-12          # width of time window [s]\n",
    "c = 299792458              # speed of light [m/s]\n",
    "wavelength = 835e-9        # reference wavelength [m]\n",
    "w0 = (2*np.pi*c)/wavelength   # reference frequency [Hz]\n",
    "dt = twidth/n\n",
    "T = np.arange(-n/2, n/2-1)*dt # time grid\n",
    "\n",
    "# === input pulse\n",
    "power = 10000                  # peak power of input [W]\n",
    "t0 = 28.4e-15              # duration of input [s]\n",
    "A = np.sqrt(power)*1/(np.cosh(T/t0)) # input field [W^(1/2)]\n",
    "\n",
    "# === fibre parameters\n",
    "flength = 0.15             # fibre length [m]\n",
    "# betas = [beta2, beta3, ...] in units [s^2/m, s^3/m ...]\n",
    "betas = [-1.1830e-026, 8.1038e-041, -9.5205e-056,  2.0737e-070,\n",
    "         -5.3943e-085,  1.3486e-099, -2.5495e-114,  3.0524e-129, \n",
    "         -1.7140e-144]\n",
    "gamma = 0.11               # nonlinear coefficient [1/W/m]\n",
    "loss = 0                   # loss [dB/m]\n",
    "\n",
    "# === Raman response\n",
    "fr = 0.18                  # fractional Raman contribution\n",
    "tau1 = 0.0122e-12; tau2 = 0.032e-12\n",
    "RT = (tau1**2+tau2**2)/tau1/tau2**2*np.exp(-T/tau2)*np.sin(T/tau1)\n",
    "RT = np.where(T < 0, RT, 0) # heaviside step function\n",
    "\n",
    "\n",
    "# === simulation parameters\n",
    "nsaves = 3     # number of length steps to save field at\n"
   ]
  },
  {
   "cell_type": "code",
   "execution_count": 5,
   "id": "a2eea5f7",
   "metadata": {},
   "outputs": [],
   "source": [
    "# GNLSE Function\n",
    "def gnlse(T, A, w0, gamma, betas, loss, fr, RT, flength, nsaves, printProgress = True):\n",
    "\n",
    "    n = len(T)\n",
    "    dT = T[1]-T[0]  # grid parameters\n",
    "    V = (np.arange(-n/2,n/2)*2*np.pi)/(n*dT)  # frequency grid\n",
    "    alpha = np.log(10**(loss/10))  # attenuation coefficient\n",
    "    \n",
    "    B = 0\n",
    "    for i in range(len(betas)): # Taylor expansion of betas\n",
    "        B += betas[i]/(math.factorial(i + 1)*V**(i + 1))\n",
    "        \n",
    "    L = 1j*B - alpha /2  # linear operator\n",
    "\n",
    "    if abs(w0) > eps: # if w0>0 then include shock\n",
    "        gamma = gamma/w0\n",
    "        W=V+w0\n",
    "    else: #set @ to 1 for no shock\n",
    "        W = 1\n",
    "\n",
    "    RW = n*fft.ifft(fft.fftshift(RT))  # frequency domain Raman\n",
    "    L = fft.fftshift(L)\n",
    "    W = fft.fftshift(W)  # shift to fft space\n",
    "\n",
    "    def gnlse_rhs(z, AW):    \n",
    "        AT = fft.fft(AW*np.exp(L*z))  # time domain field\n",
    "        IT = np.abs(AT)**2  # time domain intensity\n",
    "        if (len(RT) == 1) or fr < eps:  # no Raman case\n",
    "            M = fft.ifft(AT*IT)  # response function\n",
    "        else:\n",
    "            RS = dT*fr*fft.fft(fft.ifft(IT)*RW)  # Raman convolution\n",
    "            M = fft.ifft(AT*((1-fr)*IT+RS))  # response function\n",
    "\n",
    "        R = 1j*gamma*W*M*np.exp(-L*z)  # full RHS of Eq. (3.13)\n",
    "\n",
    "        return R\n",
    "\n",
    "    # === setup and run the ODE integrator\n",
    "    Z = np.linspace(0, flength, nsaves)  # select output z points\n",
    "    AW = []\n",
    "    r = scipy.integrate.ode(gnlse_rhs).set_integrator(\"dopri5\")  # choice of method\n",
    "    r.set_initial_value(fft.ifft(A), 0) # initial values\n",
    "    #help(r.integrate)\n",
    "    for i in range(len(Z)):\n",
    "        r.integrate(Z[i])#, AW) # get one more value, add it to the array\n",
    "        if printProgress == True: \n",
    "            print(i + 1, \"/\", len(Z))\n",
    "        AW.append(r.y)\n",
    "        #if not r.successful():\n",
    "        #    raise RuntimeError(\"Could not integrate\")\n",
    "\n",
    "    # === process output of integrator\n",
    "    AT = np.zeros(len(AW[0]))\n",
    "    display(Z)\n",
    "    for i in range(len(AW)):\n",
    "        AW[i] = AW[i] * np.exp(L*Z[i]) # change variables REMEMBER took ' out before Z\n",
    "        AT[i] = fft.fft(AW[i])           # time domain output\n",
    "        AW[i] = fft.fftshift(AW[i])*dT*n  # scale\n",
    "\n",
    "    W = V + w0  # the absolute frequency grid\n",
    "    return {\n",
    "            \"AW\" : AW, \n",
    "            \"W\" : W, \n",
    "            \"AT\": AT, \n",
    "            \"Z\" : Z\n",
    "        }"
   ]
  },
  {
   "cell_type": "code",
   "execution_count": 6,
   "id": "20b47f8a",
   "metadata": {},
   "outputs": [
    {
     "name": "stderr",
     "output_type": "stream",
     "text": [
      "/Users/pablobedoyarios/opt/anaconda3/lib/python3.9/site-packages/numpy/core/_asarray.py:102: ComplexWarning: Casting complex values to real discards the imaginary part\n",
      "  return array(a, dtype, copy=False, order=order)\n",
      "/Users/pablobedoyarios/opt/anaconda3/lib/python3.9/site-packages/scipy/integrate/_ode.py:1176: ComplexWarning: Casting complex values to real discards the imaginary part\n",
      "  x, y, iwork, istate = self.runner(*((f, t0, y0, t1) +\n",
      "/Users/pablobedoyarios/opt/anaconda3/lib/python3.9/site-packages/scipy/integrate/_ode.py:1181: UserWarning: dopri5: step size becomes too small\n",
      "  warnings.warn('{:s}: {:s}'.format(self.__class__.__name__,\n",
      "/var/folders/rs/4wwzr13n7gl2v6yf90jf926r0000gn/T/ipykernel_2791/3373184646.py:27: RuntimeWarning: overflow encountered in square\n",
      "  IT = np.abs(AT)**2  # time domain intensity\n",
      "/var/folders/rs/4wwzr13n7gl2v6yf90jf926r0000gn/T/ipykernel_2791/3373184646.py:31: RuntimeWarning: overflow encountered in multiply\n",
      "  RS = dT*fr*fft.fft(fft.ifft(IT)*RW)  # Raman convolution\n",
      "/var/folders/rs/4wwzr13n7gl2v6yf90jf926r0000gn/T/ipykernel_2791/3373184646.py:31: RuntimeWarning: invalid value encountered in multiply\n",
      "  RS = dT*fr*fft.fft(fft.ifft(IT)*RW)  # Raman convolution\n",
      "/var/folders/rs/4wwzr13n7gl2v6yf90jf926r0000gn/T/ipykernel_2791/3373184646.py:32: RuntimeWarning: overflow encountered in multiply\n",
      "  M = fft.ifft(AT*((1-fr)*IT+RS))  # response function\n",
      "/var/folders/rs/4wwzr13n7gl2v6yf90jf926r0000gn/T/ipykernel_2791/3373184646.py:32: RuntimeWarning: invalid value encountered in multiply\n",
      "  M = fft.ifft(AT*((1-fr)*IT+RS))  # response function\n"
     ]
    },
    {
     "name": "stdout",
     "output_type": "stream",
     "text": [
      "1 / 3\n"
     ]
    },
    {
     "name": "stderr",
     "output_type": "stream",
     "text": [
      "/Users/pablobedoyarios/opt/anaconda3/lib/python3.9/site-packages/scipy/integrate/_ode.py:1181: UserWarning: dopri5: larger nsteps is needed\n",
      "  warnings.warn('{:s}: {:s}'.format(self.__class__.__name__,\n"
     ]
    },
    {
     "name": "stdout",
     "output_type": "stream",
     "text": [
      "2 / 3\n",
      "3 / 3\n"
     ]
    },
    {
     "data": {
      "text/plain": [
       "array([0.   , 0.075, 0.15 ])"
      ]
     },
     "metadata": {},
     "output_type": "display_data"
    },
    {
     "ename": "ValueError",
     "evalue": "setting an array element with a sequence.",
     "output_type": "error",
     "traceback": [
      "\u001b[0;31m---------------------------------------------------------------------------\u001b[0m",
      "\u001b[0;31mTypeError\u001b[0m                                 Traceback (most recent call last)",
      "\u001b[0;31mTypeError\u001b[0m: only size-1 arrays can be converted to Python scalars",
      "\nThe above exception was the direct cause of the following exception:\n",
      "\u001b[0;31mValueError\u001b[0m                                Traceback (most recent call last)",
      "\u001b[0;32m/var/folders/rs/4wwzr13n7gl2v6yf90jf926r0000gn/T/ipykernel_2791/3493918103.py\u001b[0m in \u001b[0;36m<module>\u001b[0;34m\u001b[0m\n\u001b[1;32m      1\u001b[0m \u001b[0;31m# propagate field\u001b[0m\u001b[0;34m\u001b[0m\u001b[0;34m\u001b[0m\u001b[0m\n\u001b[1;32m      2\u001b[0m \u001b[0;34m\u001b[0m\u001b[0m\n\u001b[0;32m----> 3\u001b[0;31m \u001b[0mresults\u001b[0m \u001b[0;34m=\u001b[0m \u001b[0mgnlse\u001b[0m\u001b[0;34m(\u001b[0m\u001b[0mT\u001b[0m\u001b[0;34m,\u001b[0m \u001b[0mA\u001b[0m\u001b[0;34m,\u001b[0m \u001b[0mw0\u001b[0m\u001b[0;34m,\u001b[0m \u001b[0mgamma\u001b[0m\u001b[0;34m,\u001b[0m \u001b[0mbetas\u001b[0m\u001b[0;34m,\u001b[0m \u001b[0mloss\u001b[0m\u001b[0;34m,\u001b[0m \u001b[0mfr\u001b[0m\u001b[0;34m,\u001b[0m \u001b[0mRT\u001b[0m\u001b[0;34m,\u001b[0m \u001b[0mflength\u001b[0m\u001b[0;34m,\u001b[0m \u001b[0mnsaves\u001b[0m\u001b[0;34m)\u001b[0m\u001b[0;34m\u001b[0m\u001b[0;34m\u001b[0m\u001b[0m\n\u001b[0m",
      "\u001b[0;32m/var/folders/rs/4wwzr13n7gl2v6yf90jf926r0000gn/T/ipykernel_2791/3373184646.py\u001b[0m in \u001b[0;36mgnlse\u001b[0;34m(T, A, w0, gamma, betas, loss, fr, RT, flength, nsaves, printProgress)\u001b[0m\n\u001b[1;32m     56\u001b[0m         \u001b[0mAW\u001b[0m\u001b[0;34m[\u001b[0m\u001b[0mi\u001b[0m\u001b[0;34m]\u001b[0m \u001b[0;34m=\u001b[0m \u001b[0mAW\u001b[0m\u001b[0;34m[\u001b[0m\u001b[0mi\u001b[0m\u001b[0;34m]\u001b[0m\u001b[0;31m \u001b[0m\u001b[0;31m\\\u001b[0m\u001b[0;34m\u001b[0m\u001b[0;34m\u001b[0m\u001b[0m\n\u001b[1;32m     57\u001b[0m                 \u001b[0;34m*\u001b[0m \u001b[0mnp\u001b[0m\u001b[0;34m.\u001b[0m\u001b[0mexp\u001b[0m\u001b[0;34m(\u001b[0m\u001b[0mL\u001b[0m\u001b[0;34m*\u001b[0m\u001b[0mZ\u001b[0m\u001b[0;34m[\u001b[0m\u001b[0mi\u001b[0m\u001b[0;34m]\u001b[0m\u001b[0;34m)\u001b[0m \u001b[0;31m# change variables REMEMBER took ' out before Z\u001b[0m\u001b[0;34m\u001b[0m\u001b[0;34m\u001b[0m\u001b[0m\n\u001b[0;32m---> 58\u001b[0;31m         \u001b[0mAT\u001b[0m\u001b[0;34m[\u001b[0m\u001b[0mi\u001b[0m\u001b[0;34m]\u001b[0m \u001b[0;34m=\u001b[0m \u001b[0mfft\u001b[0m\u001b[0;34m.\u001b[0m\u001b[0mfft\u001b[0m\u001b[0;34m(\u001b[0m\u001b[0mAW\u001b[0m\u001b[0;34m[\u001b[0m\u001b[0mi\u001b[0m\u001b[0;34m]\u001b[0m\u001b[0;34m)\u001b[0m           \u001b[0;31m# time domain output\u001b[0m\u001b[0;34m\u001b[0m\u001b[0;34m\u001b[0m\u001b[0m\n\u001b[0m\u001b[1;32m     59\u001b[0m         \u001b[0mAW\u001b[0m\u001b[0;34m[\u001b[0m\u001b[0mi\u001b[0m\u001b[0;34m]\u001b[0m \u001b[0;34m=\u001b[0m \u001b[0mfft\u001b[0m\u001b[0;34m.\u001b[0m\u001b[0mfftshift\u001b[0m\u001b[0;34m(\u001b[0m\u001b[0mAW\u001b[0m\u001b[0;34m[\u001b[0m\u001b[0mi\u001b[0m\u001b[0;34m]\u001b[0m\u001b[0;34m)\u001b[0m\u001b[0;34m*\u001b[0m\u001b[0mdT\u001b[0m\u001b[0;34m*\u001b[0m\u001b[0mn\u001b[0m  \u001b[0;31m# scale\u001b[0m\u001b[0;34m\u001b[0m\u001b[0;34m\u001b[0m\u001b[0m\n\u001b[1;32m     60\u001b[0m \u001b[0;34m\u001b[0m\u001b[0m\n",
      "\u001b[0;31mValueError\u001b[0m: setting an array element with a sequence."
     ]
    }
   ],
   "source": [
    "# propagate field\n",
    "\n",
    "results = gnlse(T, A, w0, gamma, betas, loss, fr, RT, flength, nsaves)\n"
   ]
  },
  {
   "cell_type": "code",
   "execution_count": null,
   "id": "0f12bc7e",
   "metadata": {},
   "outputs": [],
   "source": [
    "results"
   ]
  },
  {
   "cell_type": "code",
   "execution_count": null,
   "id": "6ae75b05",
   "metadata": {},
   "outputs": [],
   "source": []
  },
  {
   "cell_type": "code",
   "execution_count": null,
   "id": "5150d707",
   "metadata": {},
   "outputs": [],
   "source": []
  }
 ],
 "metadata": {
  "kernelspec": {
   "display_name": "Python 3 (ipykernel)",
   "language": "python",
   "name": "python3"
  },
  "language_info": {
   "codemirror_mode": {
    "name": "ipython",
    "version": 3
   },
   "file_extension": ".py",
   "mimetype": "text/x-python",
   "name": "python",
   "nbconvert_exporter": "python",
   "pygments_lexer": "ipython3",
   "version": "3.9.7"
  }
 },
 "nbformat": 4,
 "nbformat_minor": 5
}
