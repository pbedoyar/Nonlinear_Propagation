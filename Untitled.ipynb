{
 "cells": [
  {
   "cell_type": "code",
   "execution_count": 16,
   "id": "7b12f28b",
   "metadata": {},
   "outputs": [],
   "source": [
    "import scipy\n",
    "from scipy import fft\n",
    "import numpy as np\n",
    "from numpy import linspace\n",
    "import math\n",
    "from scipy import integrate"
   ]
  },
  {
   "cell_type": "code",
   "execution_count": 17,
   "id": "b2e423bc",
   "metadata": {},
   "outputs": [],
   "source": [
    "eps=np.finfo(float).eps"
   ]
  },
  {
   "cell_type": "code",
   "execution_count": 18,
   "id": "f80d0e6d",
   "metadata": {},
   "outputs": [
    {
     "data": {
      "text/plain": [
       "2.220446049250313e-16"
      ]
     },
     "execution_count": 18,
     "metadata": {},
     "output_type": "execute_result"
    }
   ],
   "source": [
    "eps"
   ]
  },
  {
   "cell_type": "code",
   "execution_count": 19,
   "id": "06b1b945",
   "metadata": {},
   "outputs": [],
   "source": [
    "# numerical grid\n",
    "n = 2**13                   # number of grid points\n",
    "twidth = 12.5e-12          # width of time window [s]\n",
    "c = 299792458              # speed of light [m/s]\n",
    "wavelength = 835e-9        # reference wavelength [m]\n",
    "w0 = (2*np.pi*c)/wavelength   # reference frequency [Hz]\n",
    "dt = twidth/n\n",
    "T = np.arange(-n/2, n/2-1)*dt # time grid\n",
    "\n",
    "# === input pulse\n",
    "power = 10000                  # peak power of input [W]\n",
    "t0 = 28.4e-15              # duration of input [s]\n",
    "A = np.sqrt(power)*1/(np.cosh(T/t0)) # input field [W^(1/2)]\n",
    "\n",
    "# === fibre parameters\n",
    "flength = 0.15             # fibre length [m]\n",
    "# betas = [beta2, beta3, ...] in units [s^2/m, s^3/m ...]\n",
    "betas = [-1.1830e-026, 8.1038e-041, -9.5205e-056,  2.0737e-070,\n",
    "         -5.3943e-085,  1.3486e-099, -2.5495e-114,  3.0524e-129, \n",
    "         -1.7140e-144]\n",
    "gamma = 0.11               # nonlinear coefficient [1/W/m]\n",
    "loss = 0                   # loss [dB/m]\n",
    "\n",
    "# === Raman response\n",
    "fr = 0.18                  # fractional Raman contribution\n",
    "tau1 = 0.0122e-12; tau2 = 0.032e-12\n",
    "RT = (tau1**2+tau2**2)/tau1/tau2**2*np.exp(-T/tau2)*np.sin(T/tau1)\n",
    "RT = np.where(T < 0, RT, 0) # heaviside step function\n",
    "\n",
    "\n",
    "# === simulation parameters\n",
    "nsaves = 200     # number of length steps to save field at\n"
   ]
  },
  {
   "cell_type": "code",
   "execution_count": 24,
   "id": "a2eea5f7",
   "metadata": {},
   "outputs": [],
   "source": [
    "# GNLSE Function\n",
    "def gnlse(T, A, w0, gamma, betas, loss, fr, RT, flength, nsaves):\n",
    "\n",
    "    n = len(T)\n",
    "    dT = T[1]-T[0]  # grid parameters\n",
    "    V = (np.arange(-n/2,n/2)*2*np.pi)/(n*dT)  # frequency grid\n",
    "    alpha = np.log(10**(loss/10))  # attenuation coefficient\n",
    "    \n",
    "    B = 0\n",
    "    for i in range(len(betas)): # Taylor expansion of betas\n",
    "        B += betas[i]/(math.factorial(i + 1)*V**(i + 1))\n",
    "        \n",
    "    L = 1j*B - alpha /2  # linear operator\n",
    "\n",
    "    if abs(w0) > eps: # if w0>0 then include shock\n",
    "        gamma = gamma/w0\n",
    "        W=V+w0\n",
    "    else: #set @ to 1 for no shock\n",
    "        W = 1\n",
    "\n",
    "    RW = n*fft.ifft(fft.fftshift(RT))  # frequency domain Raman\n",
    "    L = fft.fftshift(L)\n",
    "    W = fft.fftshift(W)  # shift to fft space\n",
    "\n",
    "    def gnlse_rhs(z, AW):    \n",
    "        AT = fft.fft(AW*exp(L*z))  # time domain field\n",
    "        IT = np.abs(AT)**2  # time domain intensity\n",
    "        if (len(RT) == 1) or fr < eps:  # no Raman case\n",
    "            M = fft.ifft(AT*IT)  # response function\n",
    "        else:\n",
    "            RS = dT*fr*fft.fft(fft.ifft(IT)*RW)  # Raman convolution\n",
    "            M = fft.ifft(AT*((1-fr)*IT+RS))  # response function\n",
    "\n",
    "        R = 1j*gamma*W*M*np.exp(-L*Z)  # full RHS of Eq. (3.13)\n",
    "\n",
    "        return R\n",
    "\n",
    "    # === setup and run the ODE integrator\n",
    "    Z = np.linspace(0, flength, nsaves)  # select output z points\n",
    "    AW = A\n",
    "    r = scipy.integrate.ode(gnlse_rhs).set_integrator(\"dopri5\")  # choice of method\n",
    "    r.set_initial_value(0, fft.ifft(A)) # initial values\n",
    "    for i in range(len(Z)):\n",
    "        AW[i, :] = r.integrate(Z[i], AW) # get one more value, add it to the array\n",
    "        if not r.successful():\n",
    "            raise RuntimeError(\"Could not integrate\")\n",
    "\n",
    "    # === process output of integrator\n",
    "    AT = zeros(size(AW[1,:]))\n",
    "    for i in range(len(AW[0])):\n",
    "        AW[i,:] = AW[i, :]*exp(L*Z(i)) # change variables REMEMBER took ' out before Z\n",
    "        AT[i,:] = fft.fft(AW[i, :])           # time domain output\n",
    "        AW[i,:] = fft.fftshift(AW[i, :])*dT*n  # scale\n",
    "\n",
    "    W = V + w0  # the absolute frequency grid"
   ]
  },
  {
   "cell_type": "code",
   "execution_count": 25,
   "id": "20b47f8a",
   "metadata": {},
   "outputs": [
    {
     "ename": "ValueError",
     "evalue": "The truth value of an array with more than one element is ambiguous. Use a.any() or a.all()",
     "output_type": "error",
     "traceback": [
      "\u001b[0;31m---------------------------------------------------------------------------\u001b[0m",
      "\u001b[0;31mValueError\u001b[0m                                Traceback (most recent call last)",
      "\u001b[0;32m/var/folders/rs/4wwzr13n7gl2v6yf90jf926r0000gn/T/ipykernel_2022/3493918103.py\u001b[0m in \u001b[0;36m<module>\u001b[0;34m\u001b[0m\n\u001b[1;32m      1\u001b[0m \u001b[0;31m# propagate field\u001b[0m\u001b[0;34m\u001b[0m\u001b[0;34m\u001b[0m\u001b[0m\n\u001b[1;32m      2\u001b[0m \u001b[0;34m\u001b[0m\u001b[0m\n\u001b[0;32m----> 3\u001b[0;31m \u001b[0mresults\u001b[0m \u001b[0;34m=\u001b[0m \u001b[0mgnlse\u001b[0m\u001b[0;34m(\u001b[0m\u001b[0mT\u001b[0m\u001b[0;34m,\u001b[0m \u001b[0mA\u001b[0m\u001b[0;34m,\u001b[0m \u001b[0mw0\u001b[0m\u001b[0;34m,\u001b[0m \u001b[0mgamma\u001b[0m\u001b[0;34m,\u001b[0m \u001b[0mbetas\u001b[0m\u001b[0;34m,\u001b[0m \u001b[0mloss\u001b[0m\u001b[0;34m,\u001b[0m \u001b[0mfr\u001b[0m\u001b[0;34m,\u001b[0m \u001b[0mRT\u001b[0m\u001b[0;34m,\u001b[0m \u001b[0mflength\u001b[0m\u001b[0;34m,\u001b[0m \u001b[0mnsaves\u001b[0m\u001b[0;34m)\u001b[0m\u001b[0;34m\u001b[0m\u001b[0;34m\u001b[0m\u001b[0m\n\u001b[0m",
      "\u001b[0;32m/var/folders/rs/4wwzr13n7gl2v6yf90jf926r0000gn/T/ipykernel_2022/3012543328.py\u001b[0m in \u001b[0;36mgnlse\u001b[0;34m(T, A, w0, gamma, betas, loss, fr, RT, flength, nsaves)\u001b[0m\n\u001b[1;32m     42\u001b[0m     \u001b[0mr\u001b[0m\u001b[0;34m.\u001b[0m\u001b[0mset_initial_value\u001b[0m\u001b[0;34m(\u001b[0m\u001b[0;36m0\u001b[0m\u001b[0;34m,\u001b[0m \u001b[0mfft\u001b[0m\u001b[0;34m.\u001b[0m\u001b[0mifft\u001b[0m\u001b[0;34m(\u001b[0m\u001b[0mA\u001b[0m\u001b[0;34m)\u001b[0m\u001b[0;34m)\u001b[0m \u001b[0;31m# initial values\u001b[0m\u001b[0;34m\u001b[0m\u001b[0;34m\u001b[0m\u001b[0m\n\u001b[1;32m     43\u001b[0m     \u001b[0;32mfor\u001b[0m \u001b[0mi\u001b[0m \u001b[0;32min\u001b[0m \u001b[0mrange\u001b[0m\u001b[0;34m(\u001b[0m\u001b[0mlen\u001b[0m\u001b[0;34m(\u001b[0m\u001b[0mZ\u001b[0m\u001b[0;34m)\u001b[0m\u001b[0;34m)\u001b[0m\u001b[0;34m:\u001b[0m\u001b[0;34m\u001b[0m\u001b[0;34m\u001b[0m\u001b[0m\n\u001b[0;32m---> 44\u001b[0;31m         \u001b[0mAW\u001b[0m\u001b[0;34m[\u001b[0m\u001b[0mi\u001b[0m\u001b[0;34m,\u001b[0m \u001b[0;34m:\u001b[0m\u001b[0;34m]\u001b[0m \u001b[0;34m=\u001b[0m \u001b[0mr\u001b[0m\u001b[0;34m.\u001b[0m\u001b[0mintegrate\u001b[0m\u001b[0;34m(\u001b[0m\u001b[0mZ\u001b[0m\u001b[0;34m[\u001b[0m\u001b[0mi\u001b[0m\u001b[0;34m]\u001b[0m\u001b[0;34m,\u001b[0m \u001b[0mAW\u001b[0m\u001b[0;34m)\u001b[0m \u001b[0;31m# get one more value, add it to the array\u001b[0m\u001b[0;34m\u001b[0m\u001b[0;34m\u001b[0m\u001b[0m\n\u001b[0m\u001b[1;32m     45\u001b[0m         \u001b[0;32mif\u001b[0m \u001b[0;32mnot\u001b[0m \u001b[0mr\u001b[0m\u001b[0;34m.\u001b[0m\u001b[0msuccessful\u001b[0m\u001b[0;34m(\u001b[0m\u001b[0;34m)\u001b[0m\u001b[0;34m:\u001b[0m\u001b[0;34m\u001b[0m\u001b[0;34m\u001b[0m\u001b[0m\n\u001b[1;32m     46\u001b[0m             \u001b[0;32mraise\u001b[0m \u001b[0mRuntimeError\u001b[0m\u001b[0;34m(\u001b[0m\u001b[0;34m\"Could not integrate\"\u001b[0m\u001b[0;34m)\u001b[0m\u001b[0;34m\u001b[0m\u001b[0;34m\u001b[0m\u001b[0m\n",
      "\u001b[0;32m~/opt/anaconda3/lib/python3.9/site-packages/scipy/integrate/_ode.py\u001b[0m in \u001b[0;36mintegrate\u001b[0;34m(self, t, step, relax)\u001b[0m\n\u001b[1;32m    423\u001b[0m             \u001b[0mThe\u001b[0m \u001b[0mintegrated\u001b[0m \u001b[0mvalue\u001b[0m \u001b[0mat\u001b[0m \u001b[0mt\u001b[0m\u001b[0;34m\u001b[0m\u001b[0;34m\u001b[0m\u001b[0m\n\u001b[1;32m    424\u001b[0m         \"\"\"\n\u001b[0;32m--> 425\u001b[0;31m         \u001b[0;32mif\u001b[0m \u001b[0mstep\u001b[0m \u001b[0;32mand\u001b[0m \u001b[0mself\u001b[0m\u001b[0;34m.\u001b[0m\u001b[0m_integrator\u001b[0m\u001b[0;34m.\u001b[0m\u001b[0msupports_step\u001b[0m\u001b[0;34m:\u001b[0m\u001b[0;34m\u001b[0m\u001b[0;34m\u001b[0m\u001b[0m\n\u001b[0m\u001b[1;32m    426\u001b[0m             \u001b[0mmth\u001b[0m \u001b[0;34m=\u001b[0m \u001b[0mself\u001b[0m\u001b[0;34m.\u001b[0m\u001b[0m_integrator\u001b[0m\u001b[0;34m.\u001b[0m\u001b[0mstep\u001b[0m\u001b[0;34m\u001b[0m\u001b[0;34m\u001b[0m\u001b[0m\n\u001b[1;32m    427\u001b[0m         \u001b[0;32melif\u001b[0m \u001b[0mrelax\u001b[0m \u001b[0;32mand\u001b[0m \u001b[0mself\u001b[0m\u001b[0;34m.\u001b[0m\u001b[0m_integrator\u001b[0m\u001b[0;34m.\u001b[0m\u001b[0msupports_run_relax\u001b[0m\u001b[0;34m:\u001b[0m\u001b[0;34m\u001b[0m\u001b[0;34m\u001b[0m\u001b[0m\n",
      "\u001b[0;31mValueError\u001b[0m: The truth value of an array with more than one element is ambiguous. Use a.any() or a.all()"
     ]
    }
   ],
   "source": [
    "# propagate field\n",
    "\n",
    "results = gnlse(T, A, w0, gamma, betas, loss, fr, RT, flength, nsaves)\n"
   ]
  },
  {
   "cell_type": "code",
   "execution_count": null,
   "id": "485a3486",
   "metadata": {},
   "outputs": [],
   "source": []
  }
 ],
 "metadata": {
  "kernelspec": {
   "display_name": "Python 3 (ipykernel)",
   "language": "python",
   "name": "python3"
  },
  "language_info": {
   "codemirror_mode": {
    "name": "ipython",
    "version": 3
   },
   "file_extension": ".py",
   "mimetype": "text/x-python",
   "name": "python",
   "nbconvert_exporter": "python",
   "pygments_lexer": "ipython3",
   "version": "3.9.7"
  }
 },
 "nbformat": 4,
 "nbformat_minor": 5
}
